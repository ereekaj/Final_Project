{
 "cells": [
  {
   "cell_type": "code",
   "execution_count": 1,
   "metadata": {},
   "outputs": [],
   "source": [
    "import warnings\n",
    "warnings.filterwarnings('ignore')"
   ]
  },
  {
   "cell_type": "code",
   "execution_count": 2,
   "metadata": {},
   "outputs": [],
   "source": [
    "import numpy as np\n",
    "import pandas as pd\n",
    "from pathlib import Path\n",
    "from collections import Counter\n",
    "from sklearn.model_selection import train_test_split\n",
    "from imblearn.over_sampling import RandomOverSampler\n",
    "from sklearn.linear_model import LogisticRegression\n",
    "from sklearn.metrics import balanced_accuracy_score\n",
    "from sklearn.metrics import confusion_matrix\n",
    "from imblearn.metrics import classification_report_imbalanced\n",
    "from imblearn.over_sampling import SMOTE\n",
    "from imblearn.under_sampling import ClusterCentroids"
   ]
  },
  {
   "cell_type": "markdown",
   "metadata": {},
   "source": [
    "# Read the CSV"
   ]
  },
  {
   "cell_type": "code",
   "execution_count": 3,
   "metadata": {
    "scrolled": true
   },
   "outputs": [],
   "source": [
    "# Load the data\n",
    "df = pd.read_csv('encoded_loans_dfV2.0.csv', index_col='LoanNumber')"
   ]
  },
  {
   "cell_type": "markdown",
   "metadata": {},
   "source": [
    "# Split the Data into Training and Testing"
   ]
  },
  {
   "cell_type": "code",
   "execution_count": 4,
   "metadata": {},
   "outputs": [],
   "source": [
    "# Create our features\n",
    "X = df.drop(columns='LoanStatus', axis=1)\n",
    "\n",
    "# Create our target\n",
    "y = df['LoanStatus']"
   ]
  },
  {
   "cell_type": "code",
   "execution_count": 5,
   "metadata": {},
   "outputs": [
    {
     "data": {
      "text/html": [
       "<div>\n",
       "<style scoped>\n",
       "    .dataframe tbody tr th:only-of-type {\n",
       "        vertical-align: middle;\n",
       "    }\n",
       "\n",
       "    .dataframe tbody tr th {\n",
       "        vertical-align: top;\n",
       "    }\n",
       "\n",
       "    .dataframe thead th {\n",
       "        text-align: right;\n",
       "    }\n",
       "</style>\n",
       "<table border=\"1\" class=\"dataframe\">\n",
       "  <thead>\n",
       "    <tr style=\"text-align: right;\">\n",
       "      <th></th>\n",
       "      <th>BorrowerZip</th>\n",
       "      <th>Term</th>\n",
       "      <th>InitialApprovalAmount</th>\n",
       "      <th>CurrentApprovalAmount</th>\n",
       "      <th>JobsReported</th>\n",
       "      <th>ForgivenessAmount</th>\n",
       "      <th>rating</th>\n",
       "      <th>review_count</th>\n",
       "      <th>lat</th>\n",
       "      <th>lon</th>\n",
       "      <th>...</th>\n",
       "      <th>MonthApproved_1</th>\n",
       "      <th>MonthApproved_2</th>\n",
       "      <th>MonthApproved_3</th>\n",
       "      <th>MonthApproved_4</th>\n",
       "      <th>MonthApproved_5</th>\n",
       "      <th>MonthApproved_6</th>\n",
       "      <th>MonthApproved_7</th>\n",
       "      <th>MonthApproved_8</th>\n",
       "      <th>YearApproved_2020</th>\n",
       "      <th>YearApproved_2021</th>\n",
       "    </tr>\n",
       "  </thead>\n",
       "  <tbody>\n",
       "    <tr>\n",
       "      <th>count</th>\n",
       "      <td>1207.000000</td>\n",
       "      <td>1207.000000</td>\n",
       "      <td>1.207000e+03</td>\n",
       "      <td>1.207000e+03</td>\n",
       "      <td>1207.000000</td>\n",
       "      <td>1.207000e+03</td>\n",
       "      <td>1207.000000</td>\n",
       "      <td>1207.000000</td>\n",
       "      <td>1207.000000</td>\n",
       "      <td>1207.000000</td>\n",
       "      <td>...</td>\n",
       "      <td>1207.000000</td>\n",
       "      <td>1207.000000</td>\n",
       "      <td>1207.000000</td>\n",
       "      <td>1207.000000</td>\n",
       "      <td>1207.000000</td>\n",
       "      <td>1207.000000</td>\n",
       "      <td>1207.000000</td>\n",
       "      <td>1207.000000</td>\n",
       "      <td>1207.000000</td>\n",
       "      <td>1207.000000</td>\n",
       "    </tr>\n",
       "    <tr>\n",
       "      <th>mean</th>\n",
       "      <td>80215.137531</td>\n",
       "      <td>38.913007</td>\n",
       "      <td>1.361594e+05</td>\n",
       "      <td>1.359278e+05</td>\n",
       "      <td>14.321458</td>\n",
       "      <td>1.347085e+05</td>\n",
       "      <td>4.143331</td>\n",
       "      <td>69.122618</td>\n",
       "      <td>39.722251</td>\n",
       "      <td>-104.966978</td>\n",
       "      <td>...</td>\n",
       "      <td>0.093621</td>\n",
       "      <td>0.155758</td>\n",
       "      <td>0.065452</td>\n",
       "      <td>0.447390</td>\n",
       "      <td>0.201326</td>\n",
       "      <td>0.017399</td>\n",
       "      <td>0.012428</td>\n",
       "      <td>0.006628</td>\n",
       "      <td>0.649544</td>\n",
       "      <td>0.350456</td>\n",
       "    </tr>\n",
       "    <tr>\n",
       "      <th>std</th>\n",
       "      <td>19.105867</td>\n",
       "      <td>17.740666</td>\n",
       "      <td>4.136190e+05</td>\n",
       "      <td>4.135207e+05</td>\n",
       "      <td>37.148812</td>\n",
       "      <td>4.088977e+05</td>\n",
       "      <td>1.068043</td>\n",
       "      <td>172.585119</td>\n",
       "      <td>0.047072</td>\n",
       "      <td>0.052903</td>\n",
       "      <td>...</td>\n",
       "      <td>0.291421</td>\n",
       "      <td>0.362776</td>\n",
       "      <td>0.247423</td>\n",
       "      <td>0.497431</td>\n",
       "      <td>0.401157</td>\n",
       "      <td>0.130805</td>\n",
       "      <td>0.110830</td>\n",
       "      <td>0.081176</td>\n",
       "      <td>0.477310</td>\n",
       "      <td>0.477310</td>\n",
       "    </tr>\n",
       "    <tr>\n",
       "      <th>min</th>\n",
       "      <td>80012.000000</td>\n",
       "      <td>24.000000</td>\n",
       "      <td>5.000000e+02</td>\n",
       "      <td>5.000000e+02</td>\n",
       "      <td>1.000000</td>\n",
       "      <td>5.046500e+02</td>\n",
       "      <td>1.000000</td>\n",
       "      <td>1.000000</td>\n",
       "      <td>39.368946</td>\n",
       "      <td>-105.245930</td>\n",
       "      <td>...</td>\n",
       "      <td>0.000000</td>\n",
       "      <td>0.000000</td>\n",
       "      <td>0.000000</td>\n",
       "      <td>0.000000</td>\n",
       "      <td>0.000000</td>\n",
       "      <td>0.000000</td>\n",
       "      <td>0.000000</td>\n",
       "      <td>0.000000</td>\n",
       "      <td>0.000000</td>\n",
       "      <td>0.000000</td>\n",
       "    </tr>\n",
       "    <tr>\n",
       "      <th>25%</th>\n",
       "      <td>80205.000000</td>\n",
       "      <td>24.000000</td>\n",
       "      <td>1.856450e+04</td>\n",
       "      <td>1.830850e+04</td>\n",
       "      <td>2.000000</td>\n",
       "      <td>1.810364e+04</td>\n",
       "      <td>4.000000</td>\n",
       "      <td>3.000000</td>\n",
       "      <td>39.692745</td>\n",
       "      <td>-104.994540</td>\n",
       "      <td>...</td>\n",
       "      <td>0.000000</td>\n",
       "      <td>0.000000</td>\n",
       "      <td>0.000000</td>\n",
       "      <td>0.000000</td>\n",
       "      <td>0.000000</td>\n",
       "      <td>0.000000</td>\n",
       "      <td>0.000000</td>\n",
       "      <td>0.000000</td>\n",
       "      <td>0.000000</td>\n",
       "      <td>0.000000</td>\n",
       "    </tr>\n",
       "    <tr>\n",
       "      <th>50%</th>\n",
       "      <td>80211.000000</td>\n",
       "      <td>24.000000</td>\n",
       "      <td>4.290000e+04</td>\n",
       "      <td>4.300000e+04</td>\n",
       "      <td>5.000000</td>\n",
       "      <td>4.290235e+04</td>\n",
       "      <td>4.500000</td>\n",
       "      <td>8.000000</td>\n",
       "      <td>39.728643</td>\n",
       "      <td>-104.976669</td>\n",
       "      <td>...</td>\n",
       "      <td>0.000000</td>\n",
       "      <td>0.000000</td>\n",
       "      <td>0.000000</td>\n",
       "      <td>0.000000</td>\n",
       "      <td>0.000000</td>\n",
       "      <td>0.000000</td>\n",
       "      <td>0.000000</td>\n",
       "      <td>0.000000</td>\n",
       "      <td>1.000000</td>\n",
       "      <td>0.000000</td>\n",
       "    </tr>\n",
       "    <tr>\n",
       "      <th>75%</th>\n",
       "      <td>80222.000000</td>\n",
       "      <td>60.000000</td>\n",
       "      <td>1.061915e+05</td>\n",
       "      <td>1.061415e+05</td>\n",
       "      <td>12.000000</td>\n",
       "      <td>1.064222e+05</td>\n",
       "      <td>5.000000</td>\n",
       "      <td>44.000000</td>\n",
       "      <td>39.751481</td>\n",
       "      <td>-104.937029</td>\n",
       "      <td>...</td>\n",
       "      <td>0.000000</td>\n",
       "      <td>0.000000</td>\n",
       "      <td>0.000000</td>\n",
       "      <td>1.000000</td>\n",
       "      <td>0.000000</td>\n",
       "      <td>0.000000</td>\n",
       "      <td>0.000000</td>\n",
       "      <td>0.000000</td>\n",
       "      <td>1.000000</td>\n",
       "      <td>1.000000</td>\n",
       "    </tr>\n",
       "    <tr>\n",
       "      <th>max</th>\n",
       "      <td>80401.000000</td>\n",
       "      <td>60.000000</td>\n",
       "      <td>7.275742e+06</td>\n",
       "      <td>7.275742e+06</td>\n",
       "      <td>500.000000</td>\n",
       "      <td>7.356988e+06</td>\n",
       "      <td>5.000000</td>\n",
       "      <td>1661.000000</td>\n",
       "      <td>40.036910</td>\n",
       "      <td>-104.670690</td>\n",
       "      <td>...</td>\n",
       "      <td>1.000000</td>\n",
       "      <td>1.000000</td>\n",
       "      <td>1.000000</td>\n",
       "      <td>1.000000</td>\n",
       "      <td>1.000000</td>\n",
       "      <td>1.000000</td>\n",
       "      <td>1.000000</td>\n",
       "      <td>1.000000</td>\n",
       "      <td>1.000000</td>\n",
       "      <td>1.000000</td>\n",
       "    </tr>\n",
       "  </tbody>\n",
       "</table>\n",
       "<p>8 rows × 45 columns</p>\n",
       "</div>"
      ],
      "text/plain": [
       "        BorrowerZip         Term  InitialApprovalAmount  \\\n",
       "count   1207.000000  1207.000000           1.207000e+03   \n",
       "mean   80215.137531    38.913007           1.361594e+05   \n",
       "std       19.105867    17.740666           4.136190e+05   \n",
       "min    80012.000000    24.000000           5.000000e+02   \n",
       "25%    80205.000000    24.000000           1.856450e+04   \n",
       "50%    80211.000000    24.000000           4.290000e+04   \n",
       "75%    80222.000000    60.000000           1.061915e+05   \n",
       "max    80401.000000    60.000000           7.275742e+06   \n",
       "\n",
       "       CurrentApprovalAmount  JobsReported  ForgivenessAmount       rating  \\\n",
       "count           1.207000e+03   1207.000000       1.207000e+03  1207.000000   \n",
       "mean            1.359278e+05     14.321458       1.347085e+05     4.143331   \n",
       "std             4.135207e+05     37.148812       4.088977e+05     1.068043   \n",
       "min             5.000000e+02      1.000000       5.046500e+02     1.000000   \n",
       "25%             1.830850e+04      2.000000       1.810364e+04     4.000000   \n",
       "50%             4.300000e+04      5.000000       4.290235e+04     4.500000   \n",
       "75%             1.061415e+05     12.000000       1.064222e+05     5.000000   \n",
       "max             7.275742e+06    500.000000       7.356988e+06     5.000000   \n",
       "\n",
       "       review_count          lat          lon  ...  MonthApproved_1  \\\n",
       "count   1207.000000  1207.000000  1207.000000  ...      1207.000000   \n",
       "mean      69.122618    39.722251  -104.966978  ...         0.093621   \n",
       "std      172.585119     0.047072     0.052903  ...         0.291421   \n",
       "min        1.000000    39.368946  -105.245930  ...         0.000000   \n",
       "25%        3.000000    39.692745  -104.994540  ...         0.000000   \n",
       "50%        8.000000    39.728643  -104.976669  ...         0.000000   \n",
       "75%       44.000000    39.751481  -104.937029  ...         0.000000   \n",
       "max     1661.000000    40.036910  -104.670690  ...         1.000000   \n",
       "\n",
       "       MonthApproved_2  MonthApproved_3  MonthApproved_4  MonthApproved_5  \\\n",
       "count      1207.000000      1207.000000      1207.000000      1207.000000   \n",
       "mean          0.155758         0.065452         0.447390         0.201326   \n",
       "std           0.362776         0.247423         0.497431         0.401157   \n",
       "min           0.000000         0.000000         0.000000         0.000000   \n",
       "25%           0.000000         0.000000         0.000000         0.000000   \n",
       "50%           0.000000         0.000000         0.000000         0.000000   \n",
       "75%           0.000000         0.000000         1.000000         0.000000   \n",
       "max           1.000000         1.000000         1.000000         1.000000   \n",
       "\n",
       "       MonthApproved_6  MonthApproved_7  MonthApproved_8  YearApproved_2020  \\\n",
       "count      1207.000000      1207.000000      1207.000000        1207.000000   \n",
       "mean          0.017399         0.012428         0.006628           0.649544   \n",
       "std           0.130805         0.110830         0.081176           0.477310   \n",
       "min           0.000000         0.000000         0.000000           0.000000   \n",
       "25%           0.000000         0.000000         0.000000           0.000000   \n",
       "50%           0.000000         0.000000         0.000000           1.000000   \n",
       "75%           0.000000         0.000000         0.000000           1.000000   \n",
       "max           1.000000         1.000000         1.000000           1.000000   \n",
       "\n",
       "       YearApproved_2021  \n",
       "count        1207.000000  \n",
       "mean            0.350456  \n",
       "std             0.477310  \n",
       "min             0.000000  \n",
       "25%             0.000000  \n",
       "50%             0.000000  \n",
       "75%             1.000000  \n",
       "max             1.000000  \n",
       "\n",
       "[8 rows x 45 columns]"
      ]
     },
     "execution_count": 5,
     "metadata": {},
     "output_type": "execute_result"
    }
   ],
   "source": [
    "X.describe()"
   ]
  },
  {
   "cell_type": "code",
   "execution_count": 6,
   "metadata": {},
   "outputs": [
    {
     "data": {
      "text/plain": [
       "Paid in Full    1174\n",
       "Exemption 4       33\n",
       "Name: LoanStatus, dtype: int64"
      ]
     },
     "execution_count": 6,
     "metadata": {},
     "output_type": "execute_result"
    }
   ],
   "source": [
    "# Check the balance of our target values\n",
    "df['LoanStatus'].value_counts()"
   ]
  },
  {
   "cell_type": "code",
   "execution_count": 7,
   "metadata": {},
   "outputs": [],
   "source": [
    "X_train, X_test, y_train, y_test = train_test_split(X, y, random_state=1)"
   ]
  },
  {
   "cell_type": "markdown",
   "metadata": {},
   "source": [
    "# Oversampling\n",
    "\n",
    "In this section, you will compare two oversampling algorithms to determine which algorithm results in the best performance. You will oversample the data using the naive random oversampling algorithm and the SMOTE algorithm. For each algorithm, be sure to complete the folliowing steps:\n",
    "\n",
    "1. View the count of the target classes using `Counter` from the collections library. \n",
    "3. Use the resampled data to train a logistic regression model.\n",
    "3. Calculate the balanced accuracy score from sklearn.metrics.\n",
    "4. Print the confusion matrix from sklearn.metrics.\n",
    "5. Generate a classication report using the `imbalanced_classification_report` from imbalanced-learn.\n",
    "\n",
    "Note: Use a random state of 1 for each sampling algorithm to ensure consistency between tests"
   ]
  },
  {
   "cell_type": "markdown",
   "metadata": {},
   "source": [
    "### Naive Random Oversampling"
   ]
  },
  {
   "cell_type": "code",
   "execution_count": 8,
   "metadata": {},
   "outputs": [
    {
     "data": {
      "text/plain": [
       "Counter({'Paid in Full': 881, 'Exemption 4': 881})"
      ]
     },
     "execution_count": 8,
     "metadata": {},
     "output_type": "execute_result"
    }
   ],
   "source": [
    "# Resample the training data with the RandomOversampler\n",
    "ros = RandomOverSampler(random_state=1)\n",
    "X_resampled, y_resampled = ros.fit_resample(X_train, y_train)\n",
    "Counter(y_resampled)"
   ]
  },
  {
   "cell_type": "code",
   "execution_count": 9,
   "metadata": {},
   "outputs": [
    {
     "data": {
      "text/plain": [
       "LogisticRegression(random_state=1)"
      ]
     },
     "execution_count": 9,
     "metadata": {},
     "output_type": "execute_result"
    }
   ],
   "source": [
    "# Train the Logistic Regression model using the resampled data\n",
    "model = LogisticRegression(solver='lbfgs', random_state=1)\n",
    "model.fit(X_resampled, y_resampled)"
   ]
  },
  {
   "cell_type": "code",
   "execution_count": 10,
   "metadata": {},
   "outputs": [
    {
     "data": {
      "text/plain": [
       "0.736253318164581"
      ]
     },
     "execution_count": 10,
     "metadata": {},
     "output_type": "execute_result"
    }
   ],
   "source": [
    "# Calculated the balanced accuracy score\n",
    "y_pred = model.predict(X_test)\n",
    "balanced_accuracy_score(y_test, y_pred)"
   ]
  },
  {
   "cell_type": "code",
   "execution_count": 11,
   "metadata": {},
   "outputs": [
    {
     "data": {
      "text/plain": [
       "array([[  8,   1],\n",
       "       [122, 171]], dtype=int64)"
      ]
     },
     "execution_count": 11,
     "metadata": {},
     "output_type": "execute_result"
    }
   ],
   "source": [
    "# Display the confusion matrix\n",
    "confusion_matrix(y_test, y_pred)"
   ]
  },
  {
   "cell_type": "code",
   "execution_count": 12,
   "metadata": {},
   "outputs": [
    {
     "name": "stdout",
     "output_type": "stream",
     "text": [
      "                    pre       rec       spe        f1       geo       iba       sup\n",
      "\n",
      " Exemption 4       0.06      0.89      0.58      0.12      0.72      0.53         9\n",
      "Paid in Full       0.99      0.58      0.89      0.74      0.72      0.50       293\n",
      "\n",
      " avg / total       0.97      0.59      0.88      0.72      0.72      0.50       302\n",
      "\n"
     ]
    }
   ],
   "source": [
    "# Print the imbalanced classification report\n",
    "print(classification_report_imbalanced(y_test, y_pred))"
   ]
  },
  {
   "cell_type": "markdown",
   "metadata": {},
   "source": [
    "### SMOTE Oversampling"
   ]
  },
  {
   "cell_type": "code",
   "execution_count": 13,
   "metadata": {},
   "outputs": [
    {
     "data": {
      "text/plain": [
       "Counter({'Paid in Full': 881, 'Exemption 4': 881})"
      ]
     },
     "execution_count": 13,
     "metadata": {},
     "output_type": "execute_result"
    }
   ],
   "source": [
    "# Resample the training data with SMOTE\n",
    "X_resampled, y_resampled = SMOTE(random_state=1, sampling_strategy='auto').fit_resample(X_train, y_train)\n",
    "Counter(y_resampled)"
   ]
  },
  {
   "cell_type": "code",
   "execution_count": 14,
   "metadata": {},
   "outputs": [
    {
     "data": {
      "text/plain": [
       "LogisticRegression(random_state=1)"
      ]
     },
     "execution_count": 14,
     "metadata": {},
     "output_type": "execute_result"
    }
   ],
   "source": [
    "# Train the Logistic Regression model using the resampled data\n",
    "model = LogisticRegression(solver='lbfgs', random_state=1)\n",
    "model.fit(X_resampled, y_resampled)"
   ]
  },
  {
   "cell_type": "code",
   "execution_count": 15,
   "metadata": {},
   "outputs": [
    {
     "data": {
      "text/plain": [
       "0.7396662874478575"
      ]
     },
     "execution_count": 15,
     "metadata": {},
     "output_type": "execute_result"
    }
   ],
   "source": [
    "# Calculated the balanced accuracy score\n",
    "y_pred = model.predict(X_test)\n",
    "balanced_accuracy_score(y_test, y_pred)"
   ]
  },
  {
   "cell_type": "code",
   "execution_count": 16,
   "metadata": {},
   "outputs": [
    {
     "data": {
      "text/plain": [
       "array([[  8,   1],\n",
       "       [120, 173]], dtype=int64)"
      ]
     },
     "execution_count": 16,
     "metadata": {},
     "output_type": "execute_result"
    }
   ],
   "source": [
    "# Display the confusion matrix\n",
    "confusion_matrix(y_test, y_pred)"
   ]
  },
  {
   "cell_type": "code",
   "execution_count": 17,
   "metadata": {},
   "outputs": [
    {
     "name": "stdout",
     "output_type": "stream",
     "text": [
      "                    pre       rec       spe        f1       geo       iba       sup\n",
      "\n",
      " Exemption 4       0.06      0.89      0.59      0.12      0.72      0.54         9\n",
      "Paid in Full       0.99      0.59      0.89      0.74      0.72      0.51       293\n",
      "\n",
      " avg / total       0.97      0.60      0.88      0.72      0.72      0.51       302\n",
      "\n"
     ]
    }
   ],
   "source": [
    "# Print the imbalanced classification report\n",
    "print(classification_report_imbalanced(y_test, y_pred))"
   ]
  },
  {
   "cell_type": "markdown",
   "metadata": {},
   "source": [
    "# Undersampling\n",
    "\n",
    "In this section, you will test an undersampling algorithms to determine which algorithm results in the best performance compared to the oversampling algorithms above. You will undersample the data using the Cluster Centroids algorithm and complete the folliowing steps:\n",
    "\n",
    "1. View the count of the target classes using `Counter` from the collections library. \n",
    "3. Use the resampled data to train a logistic regression model.\n",
    "3. Calculate the balanced accuracy score from sklearn.metrics.\n",
    "4. Print the confusion matrix from sklearn.metrics.\n",
    "5. Generate a classication report using the `imbalanced_classification_report` from imbalanced-learn.\n",
    "\n",
    "Note: Use a random state of 1 for each sampling algorithm to ensure consistency between tests"
   ]
  },
  {
   "cell_type": "code",
   "execution_count": 18,
   "metadata": {},
   "outputs": [
    {
     "data": {
      "text/plain": [
       "Counter({'Exemption 4': 24, 'Paid in Full': 24})"
      ]
     },
     "execution_count": 18,
     "metadata": {},
     "output_type": "execute_result"
    }
   ],
   "source": [
    "# Resample the data using the ClusterCentroids resampler\n",
    "# Warning: This is a large dataset, and this step may take some time to complete\n",
    "cc = ClusterCentroids(random_state=1)\n",
    "X_resampled, y_resampled = cc.fit_resample(X_train, y_train)\n",
    "Counter(y_resampled)"
   ]
  },
  {
   "cell_type": "code",
   "execution_count": 19,
   "metadata": {},
   "outputs": [
    {
     "data": {
      "text/plain": [
       "LogisticRegression(random_state=1)"
      ]
     },
     "execution_count": 19,
     "metadata": {},
     "output_type": "execute_result"
    }
   ],
   "source": [
    "# Train the Logistic Regression model using the resampled data\n",
    "model = LogisticRegression(solver='lbfgs', random_state=1)\n",
    "model.fit(X_resampled, y_resampled)"
   ]
  },
  {
   "cell_type": "code",
   "execution_count": 20,
   "metadata": {},
   "outputs": [
    {
     "data": {
      "text/plain": [
       "0.434963974213121"
      ]
     },
     "execution_count": 20,
     "metadata": {},
     "output_type": "execute_result"
    }
   ],
   "source": [
    "# Calculated the balanced accuracy score\n",
    "y_pred = model.predict(X_test)\n",
    "balanced_accuracy_score(y_test, y_pred)"
   ]
  },
  {
   "cell_type": "code",
   "execution_count": 21,
   "metadata": {},
   "outputs": [
    {
     "data": {
      "text/plain": [
       "array([[  7,   2],\n",
       "       [266,  27]], dtype=int64)"
      ]
     },
     "execution_count": 21,
     "metadata": {},
     "output_type": "execute_result"
    }
   ],
   "source": [
    "# Display the confusion matrix\n",
    "confusion_matrix(y_test, y_pred)"
   ]
  },
  {
   "cell_type": "code",
   "execution_count": 22,
   "metadata": {},
   "outputs": [
    {
     "name": "stdout",
     "output_type": "stream",
     "text": [
      "                    pre       rec       spe        f1       geo       iba       sup\n",
      "\n",
      " Exemption 4       0.03      0.78      0.09      0.05      0.27      0.08         9\n",
      "Paid in Full       0.93      0.09      0.78      0.17      0.27      0.07       293\n",
      "\n",
      " avg / total       0.90      0.11      0.76      0.16      0.27      0.07       302\n",
      "\n"
     ]
    }
   ],
   "source": [
    "# Print the imbalanced classification report\n",
    "print(classification_report_imbalanced(y_test, y_pred))"
   ]
  }
 ],
 "metadata": {
  "kernelspec": {
   "display_name": "mlenv",
   "language": "python",
   "name": "mlenv"
  },
  "language_info": {
   "codemirror_mode": {
    "name": "ipython",
    "version": 3
   },
   "file_extension": ".py",
   "mimetype": "text/x-python",
   "name": "python",
   "nbconvert_exporter": "python",
   "pygments_lexer": "ipython3",
   "version": "3.7.11"
  }
 },
 "nbformat": 4,
 "nbformat_minor": 2
}
