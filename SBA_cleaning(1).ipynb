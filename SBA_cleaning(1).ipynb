{
 "cells": [
  {
   "cell_type": "code",
   "execution_count": 1,
   "id": "171f39b6",
   "metadata": {
    "id": "171f39b6"
   },
   "outputs": [],
   "source": [
    "import pandas as pd\n",
    "import numpy as np"
   ]
  },
  {
   "cell_type": "code",
   "execution_count": 2,
   "id": "d4f4cbca",
   "metadata": {
    "colab": {
     "base_uri": "https://localhost:8080/",
     "height": 346
    },
    "id": "d4f4cbca",
    "outputId": "8759dcac-e1ef-42a1-f7da-f33f80625595"
   },
   "outputs": [],
   "source": [
    "# Import files\n",
    "sba_df_1 = pd.read_csv(r\"C:\\Users\\vowel\\Downloads\\public_up_to_150k_2_220403(1).csv\")\n",
    "sba_df_2 = pd.read_csv(r\"C:\\Users\\vowel\\Downloads\\public_150k_plus_220403(1).csv\")"
   ]
  },
  {
   "cell_type": "code",
   "execution_count": 3,
   "id": "bca5cb48",
   "metadata": {
    "id": "bca5cb48"
   },
   "outputs": [],
   "source": [
    "# Filter file 1\n",
    "sba_df_1 = sba_df_1[(sba_df_1.BorrowerState == 'CO') & (sba_df_1.BorrowerCity == 'DENVER')]"
   ]
  },
  {
   "cell_type": "code",
   "execution_count": 4,
   "id": "aae1c9aa",
   "metadata": {
    "id": "aae1c9aa"
   },
   "outputs": [],
   "source": [
    "# Filter file 2\n",
    "sba_df_2 = sba_df_2[(sba_df_2.BorrowerState == 'CO') & (sba_df_2.BorrowerCity == 'DENVER')]"
   ]
  },
  {
   "cell_type": "code",
   "execution_count": 5,
   "id": "e74cb1b9",
   "metadata": {
    "id": "e74cb1b9",
    "scrolled": true
   },
   "outputs": [],
   "source": [
    "# Combine files 1 and 2\n",
    "combined_sba = sba_df_1.append(sba_df_2)"
   ]
  },
  {
   "cell_type": "code",
   "execution_count": 6,
   "id": "69f74bcb",
   "metadata": {
    "id": "69f74bcb",
    "outputId": "6e8f76d1-8927-493d-c73a-66785638062d"
   },
   "outputs": [
    {
     "name": "stdout",
     "output_type": "stream",
     "text": [
      "<class 'pandas.core.frame.DataFrame'>\n",
      "Int64Index: 13827 entries, 669809 to 185599\n",
      "Data columns (total 53 columns):\n",
      " #   Column                       Non-Null Count  Dtype  \n",
      "---  ------                       --------------  -----  \n",
      " 0   LoanNumber                   13827 non-null  int64  \n",
      " 1   DateApproved                 13827 non-null  object \n",
      " 2   SBAOfficeCode                13827 non-null  int64  \n",
      " 3   ProcessingMethod             13827 non-null  object \n",
      " 4   BorrowerName                 13827 non-null  object \n",
      " 5   BorrowerAddress              13827 non-null  object \n",
      " 6   BorrowerCity                 13827 non-null  object \n",
      " 7   BorrowerState                13827 non-null  object \n",
      " 8   BorrowerZip                  13827 non-null  object \n",
      " 9   LoanStatusDate               13164 non-null  object \n",
      " 10  LoanStatus                   13827 non-null  object \n",
      " 11  Term                         13827 non-null  int64  \n",
      " 12  SBAGuarantyPercentage        13827 non-null  int64  \n",
      " 13  InitialApprovalAmount        13827 non-null  float64\n",
      " 14  CurrentApprovalAmount        13827 non-null  float64\n",
      " 15  UndisbursedAmount            13827 non-null  float64\n",
      " 16  FranchiseName                166 non-null    object \n",
      " 17  ServicingLenderLocationID    13827 non-null  int64  \n",
      " 18  ServicingLenderName          13827 non-null  object \n",
      " 19  ServicingLenderAddress       13827 non-null  object \n",
      " 20  ServicingLenderCity          13827 non-null  object \n",
      " 21  ServicingLenderState         13827 non-null  object \n",
      " 22  ServicingLenderZip           13827 non-null  object \n",
      " 23  RuralUrbanIndicator          13827 non-null  object \n",
      " 24  HubzoneIndicator             13827 non-null  object \n",
      " 25  LMIIndicator                 13827 non-null  object \n",
      " 26  BusinessAgeDescription       13827 non-null  object \n",
      " 27  ProjectCity                  13827 non-null  object \n",
      " 28  ProjectCountyName            13827 non-null  object \n",
      " 29  ProjectState                 13827 non-null  object \n",
      " 30  ProjectZip                   13827 non-null  object \n",
      " 31  CD                           13827 non-null  object \n",
      " 32  JobsReported                 13827 non-null  float64\n",
      " 33  NAICSCode                    13480 non-null  float64\n",
      " 34  Race                         13827 non-null  object \n",
      " 35  Ethnicity                    13827 non-null  object \n",
      " 36  UTILITIES_PROCEED            1499 non-null   float64\n",
      " 37  PAYROLL_PROCEED              13787 non-null  float64\n",
      " 38  MORTGAGE_INTEREST_PROCEED    579 non-null    float64\n",
      " 39  RENT_PROCEED                 1726 non-null   float64\n",
      " 40  REFINANCE_EIDL_PROCEED       320 non-null    float64\n",
      " 41  HEALTH_CARE_PROCEED          699 non-null    float64\n",
      " 42  DEBT_INTEREST_PROCEED        389 non-null    float64\n",
      " 43  BusinessType                 13821 non-null  object \n",
      " 44  OriginatingLenderLocationID  13827 non-null  int64  \n",
      " 45  OriginatingLender            13827 non-null  object \n",
      " 46  OriginatingLenderCity        13827 non-null  object \n",
      " 47  OriginatingLenderState       13827 non-null  object \n",
      " 48  Gender                       13827 non-null  object \n",
      " 49  Veteran                      13827 non-null  object \n",
      " 50  NonProfit                    666 non-null    object \n",
      " 51  ForgivenessAmount            13307 non-null  float64\n",
      " 52  ForgivenessDate              13307 non-null  object \n",
      "dtypes: float64(13), int64(6), object(34)\n",
      "memory usage: 5.7+ MB\n"
     ]
    }
   ],
   "source": [
    "combined_sba.info()"
   ]
  },
  {
   "cell_type": "code",
   "execution_count": 7,
   "id": "f8c36ff0",
   "metadata": {
    "id": "f8c36ff0",
    "outputId": "2ab0da93-2bdc-4c02-f672-2842d49ee9db",
    "scrolled": true
   },
   "outputs": [
    {
     "data": {
      "text/plain": [
       "LoanNumber                     13827\n",
       "DateApproved                     184\n",
       "SBAOfficeCode                      3\n",
       "ProcessingMethod                   2\n",
       "BorrowerName                   13771\n",
       "BorrowerAddress                12901\n",
       "BorrowerCity                       1\n",
       "BorrowerState                      1\n",
       "BorrowerZip                     4995\n",
       "LoanStatusDate                   280\n",
       "LoanStatus                         2\n",
       "Term                              16\n",
       "SBAGuarantyPercentage              1\n",
       "InitialApprovalAmount           9018\n",
       "CurrentApprovalAmount           9010\n",
       "UndisbursedAmount                  1\n",
       "FranchiseName                    121\n",
       "ServicingLenderLocationID        408\n",
       "ServicingLenderName              399\n",
       "ServicingLenderAddress           405\n",
       "ServicingLenderCity              321\n",
       "ServicingLenderState              49\n",
       "ServicingLenderZip               407\n",
       "RuralUrbanIndicator                1\n",
       "HubzoneIndicator                   2\n",
       "LMIIndicator                       2\n",
       "BusinessAgeDescription             5\n",
       "ProjectCity                        8\n",
       "ProjectCountyName                  8\n",
       "ProjectState                       1\n",
       "ProjectZip                      5004\n",
       "CD                                 5\n",
       "JobsReported                     270\n",
       "NAICSCode                        769\n",
       "Race                               6\n",
       "Ethnicity                          3\n",
       "UTILITIES_PROCEED                737\n",
       "PAYROLL_PROCEED                 9137\n",
       "MORTGAGE_INTEREST_PROCEED        273\n",
       "RENT_PROCEED                    1076\n",
       "REFINANCE_EIDL_PROCEED            31\n",
       "HEALTH_CARE_PROCEED              422\n",
       "DEBT_INTEREST_PROCEED            123\n",
       "BusinessType                      18\n",
       "OriginatingLenderLocationID      412\n",
       "OriginatingLender                403\n",
       "OriginatingLenderCity            324\n",
       "OriginatingLenderState            49\n",
       "Gender                             3\n",
       "Veteran                            3\n",
       "NonProfit                          1\n",
       "ForgivenessAmount              13171\n",
       "ForgivenessDate                  328\n",
       "dtype: int64"
      ]
     },
     "execution_count": 7,
     "metadata": {},
     "output_type": "execute_result"
    }
   ],
   "source": [
    "combined_sba.nunique()"
   ]
  },
  {
   "cell_type": "code",
   "execution_count": 6,
   "id": "1d23e81f",
   "metadata": {
    "id": "1d23e81f"
   },
   "outputs": [],
   "source": [
    "# Drop unnecessary columns\n",
    "combined_sba = combined_sba.drop(columns=['SBAOfficeCode', \n",
    "                                          'ProcessingMethod', \n",
    "                                          'FranchiseName', \n",
    "                                          'ServicingLenderLocationID', \n",
    "                                          'ServicingLenderName', \n",
    "                                          'ServicingLenderAddress', \n",
    "                                          'ServicingLenderCity', \n",
    "                                          'ServicingLenderState', \n",
    "                                          'ServicingLenderZip', \n",
    "                                          'HubzoneIndicator', \n",
    "                                          'LMIIndicator', \n",
    "                                          'OriginatingLenderLocationID', \n",
    "                                          'OriginatingLender', \n",
    "                                          'OriginatingLenderCity', \n",
    "                                          'OriginatingLenderState', \n",
    "                                          'ProjectCity', \n",
    "                                          'ProjectCountyName', \n",
    "                                          'ProjectState', \n",
    "                                          'ProjectZip', \n",
    "                                          'UTILITIES_PROCEED', \n",
    "                                          'PAYROLL_PROCEED', \n",
    "                                          'MORTGAGE_INTEREST_PROCEED', \n",
    "                                          'RENT_PROCEED', \n",
    "                                          'REFINANCE_EIDL_PROCEED', \n",
    "                                          'HEALTH_CARE_PROCEED', \n",
    "                                          'DEBT_INTEREST_PROCEED', \n",
    "                                          'BorrowerState', \n",
    "                                          'BorrowerCity', \n",
    "                                          'NonProfit', \n",
    "                                          'SBAGuarantyPercentage'])"
   ]
  },
  {
   "cell_type": "code",
   "execution_count": 9,
   "id": "7b207133",
   "metadata": {
    "id": "7b207133",
    "scrolled": true
   },
   "outputs": [
    {
     "ename": "FileNotFoundError",
     "evalue": "[Errno 2] No such file or directory: 'restaurant_df_raw.csv'",
     "output_type": "error",
     "traceback": [
      "\u001b[1;31m---------------------------------------------------------------------------\u001b[0m",
      "\u001b[1;31mFileNotFoundError\u001b[0m                         Traceback (most recent call last)",
      "\u001b[1;32m~\\AppData\\Local\\Temp/ipykernel_21308/1024428151.py\u001b[0m in \u001b[0;36m<module>\u001b[1;34m\u001b[0m\n\u001b[0;32m      1\u001b[0m \u001b[1;31m# Load Yelp restaurant data\u001b[0m\u001b[1;33m\u001b[0m\u001b[1;33m\u001b[0m\u001b[0m\n\u001b[1;32m----> 2\u001b[1;33m \u001b[0mrestaurant_df\u001b[0m \u001b[1;33m=\u001b[0m \u001b[0mpd\u001b[0m\u001b[1;33m.\u001b[0m\u001b[0mread_csv\u001b[0m\u001b[1;33m(\u001b[0m\u001b[1;34m'restaurant_df_raw.csv'\u001b[0m\u001b[1;33m)\u001b[0m\u001b[1;33m\u001b[0m\u001b[1;33m\u001b[0m\u001b[0m\n\u001b[0m",
      "\u001b[1;32m~\\anaconda3\\envs\\PythonData\\lib\\site-packages\\pandas\\util\\_decorators.py\u001b[0m in \u001b[0;36mwrapper\u001b[1;34m(*args, **kwargs)\u001b[0m\n\u001b[0;32m    309\u001b[0m                     \u001b[0mstacklevel\u001b[0m\u001b[1;33m=\u001b[0m\u001b[0mstacklevel\u001b[0m\u001b[1;33m,\u001b[0m\u001b[1;33m\u001b[0m\u001b[1;33m\u001b[0m\u001b[0m\n\u001b[0;32m    310\u001b[0m                 )\n\u001b[1;32m--> 311\u001b[1;33m             \u001b[1;32mreturn\u001b[0m \u001b[0mfunc\u001b[0m\u001b[1;33m(\u001b[0m\u001b[1;33m*\u001b[0m\u001b[0margs\u001b[0m\u001b[1;33m,\u001b[0m \u001b[1;33m**\u001b[0m\u001b[0mkwargs\u001b[0m\u001b[1;33m)\u001b[0m\u001b[1;33m\u001b[0m\u001b[1;33m\u001b[0m\u001b[0m\n\u001b[0m\u001b[0;32m    312\u001b[0m \u001b[1;33m\u001b[0m\u001b[0m\n\u001b[0;32m    313\u001b[0m         \u001b[1;32mreturn\u001b[0m \u001b[0mwrapper\u001b[0m\u001b[1;33m\u001b[0m\u001b[1;33m\u001b[0m\u001b[0m\n",
      "\u001b[1;32m~\\anaconda3\\envs\\PythonData\\lib\\site-packages\\pandas\\io\\parsers\\readers.py\u001b[0m in \u001b[0;36mread_csv\u001b[1;34m(filepath_or_buffer, sep, delimiter, header, names, index_col, usecols, squeeze, prefix, mangle_dupe_cols, dtype, engine, converters, true_values, false_values, skipinitialspace, skiprows, skipfooter, nrows, na_values, keep_default_na, na_filter, verbose, skip_blank_lines, parse_dates, infer_datetime_format, keep_date_col, date_parser, dayfirst, cache_dates, iterator, chunksize, compression, thousands, decimal, lineterminator, quotechar, quoting, doublequote, escapechar, comment, encoding, encoding_errors, dialect, error_bad_lines, warn_bad_lines, on_bad_lines, delim_whitespace, low_memory, memory_map, float_precision, storage_options)\u001b[0m\n\u001b[0;32m    584\u001b[0m     \u001b[0mkwds\u001b[0m\u001b[1;33m.\u001b[0m\u001b[0mupdate\u001b[0m\u001b[1;33m(\u001b[0m\u001b[0mkwds_defaults\u001b[0m\u001b[1;33m)\u001b[0m\u001b[1;33m\u001b[0m\u001b[1;33m\u001b[0m\u001b[0m\n\u001b[0;32m    585\u001b[0m \u001b[1;33m\u001b[0m\u001b[0m\n\u001b[1;32m--> 586\u001b[1;33m     \u001b[1;32mreturn\u001b[0m \u001b[0m_read\u001b[0m\u001b[1;33m(\u001b[0m\u001b[0mfilepath_or_buffer\u001b[0m\u001b[1;33m,\u001b[0m \u001b[0mkwds\u001b[0m\u001b[1;33m)\u001b[0m\u001b[1;33m\u001b[0m\u001b[1;33m\u001b[0m\u001b[0m\n\u001b[0m\u001b[0;32m    587\u001b[0m \u001b[1;33m\u001b[0m\u001b[0m\n\u001b[0;32m    588\u001b[0m \u001b[1;33m\u001b[0m\u001b[0m\n",
      "\u001b[1;32m~\\anaconda3\\envs\\PythonData\\lib\\site-packages\\pandas\\io\\parsers\\readers.py\u001b[0m in \u001b[0;36m_read\u001b[1;34m(filepath_or_buffer, kwds)\u001b[0m\n\u001b[0;32m    480\u001b[0m \u001b[1;33m\u001b[0m\u001b[0m\n\u001b[0;32m    481\u001b[0m     \u001b[1;31m# Create the parser.\u001b[0m\u001b[1;33m\u001b[0m\u001b[1;33m\u001b[0m\u001b[0m\n\u001b[1;32m--> 482\u001b[1;33m     \u001b[0mparser\u001b[0m \u001b[1;33m=\u001b[0m \u001b[0mTextFileReader\u001b[0m\u001b[1;33m(\u001b[0m\u001b[0mfilepath_or_buffer\u001b[0m\u001b[1;33m,\u001b[0m \u001b[1;33m**\u001b[0m\u001b[0mkwds\u001b[0m\u001b[1;33m)\u001b[0m\u001b[1;33m\u001b[0m\u001b[1;33m\u001b[0m\u001b[0m\n\u001b[0m\u001b[0;32m    483\u001b[0m \u001b[1;33m\u001b[0m\u001b[0m\n\u001b[0;32m    484\u001b[0m     \u001b[1;32mif\u001b[0m \u001b[0mchunksize\u001b[0m \u001b[1;32mor\u001b[0m \u001b[0miterator\u001b[0m\u001b[1;33m:\u001b[0m\u001b[1;33m\u001b[0m\u001b[1;33m\u001b[0m\u001b[0m\n",
      "\u001b[1;32m~\\anaconda3\\envs\\PythonData\\lib\\site-packages\\pandas\\io\\parsers\\readers.py\u001b[0m in \u001b[0;36m__init__\u001b[1;34m(self, f, engine, **kwds)\u001b[0m\n\u001b[0;32m    809\u001b[0m             \u001b[0mself\u001b[0m\u001b[1;33m.\u001b[0m\u001b[0moptions\u001b[0m\u001b[1;33m[\u001b[0m\u001b[1;34m\"has_index_names\"\u001b[0m\u001b[1;33m]\u001b[0m \u001b[1;33m=\u001b[0m \u001b[0mkwds\u001b[0m\u001b[1;33m[\u001b[0m\u001b[1;34m\"has_index_names\"\u001b[0m\u001b[1;33m]\u001b[0m\u001b[1;33m\u001b[0m\u001b[1;33m\u001b[0m\u001b[0m\n\u001b[0;32m    810\u001b[0m \u001b[1;33m\u001b[0m\u001b[0m\n\u001b[1;32m--> 811\u001b[1;33m         \u001b[0mself\u001b[0m\u001b[1;33m.\u001b[0m\u001b[0m_engine\u001b[0m \u001b[1;33m=\u001b[0m \u001b[0mself\u001b[0m\u001b[1;33m.\u001b[0m\u001b[0m_make_engine\u001b[0m\u001b[1;33m(\u001b[0m\u001b[0mself\u001b[0m\u001b[1;33m.\u001b[0m\u001b[0mengine\u001b[0m\u001b[1;33m)\u001b[0m\u001b[1;33m\u001b[0m\u001b[1;33m\u001b[0m\u001b[0m\n\u001b[0m\u001b[0;32m    812\u001b[0m \u001b[1;33m\u001b[0m\u001b[0m\n\u001b[0;32m    813\u001b[0m     \u001b[1;32mdef\u001b[0m \u001b[0mclose\u001b[0m\u001b[1;33m(\u001b[0m\u001b[0mself\u001b[0m\u001b[1;33m)\u001b[0m\u001b[1;33m:\u001b[0m\u001b[1;33m\u001b[0m\u001b[1;33m\u001b[0m\u001b[0m\n",
      "\u001b[1;32m~\\anaconda3\\envs\\PythonData\\lib\\site-packages\\pandas\\io\\parsers\\readers.py\u001b[0m in \u001b[0;36m_make_engine\u001b[1;34m(self, engine)\u001b[0m\n\u001b[0;32m   1038\u001b[0m             )\n\u001b[0;32m   1039\u001b[0m         \u001b[1;31m# error: Too many arguments for \"ParserBase\"\u001b[0m\u001b[1;33m\u001b[0m\u001b[1;33m\u001b[0m\u001b[0m\n\u001b[1;32m-> 1040\u001b[1;33m         \u001b[1;32mreturn\u001b[0m \u001b[0mmapping\u001b[0m\u001b[1;33m[\u001b[0m\u001b[0mengine\u001b[0m\u001b[1;33m]\u001b[0m\u001b[1;33m(\u001b[0m\u001b[0mself\u001b[0m\u001b[1;33m.\u001b[0m\u001b[0mf\u001b[0m\u001b[1;33m,\u001b[0m \u001b[1;33m**\u001b[0m\u001b[0mself\u001b[0m\u001b[1;33m.\u001b[0m\u001b[0moptions\u001b[0m\u001b[1;33m)\u001b[0m  \u001b[1;31m# type: ignore[call-arg]\u001b[0m\u001b[1;33m\u001b[0m\u001b[1;33m\u001b[0m\u001b[0m\n\u001b[0m\u001b[0;32m   1041\u001b[0m \u001b[1;33m\u001b[0m\u001b[0m\n\u001b[0;32m   1042\u001b[0m     \u001b[1;32mdef\u001b[0m \u001b[0m_failover_to_python\u001b[0m\u001b[1;33m(\u001b[0m\u001b[0mself\u001b[0m\u001b[1;33m)\u001b[0m\u001b[1;33m:\u001b[0m\u001b[1;33m\u001b[0m\u001b[1;33m\u001b[0m\u001b[0m\n",
      "\u001b[1;32m~\\anaconda3\\envs\\PythonData\\lib\\site-packages\\pandas\\io\\parsers\\c_parser_wrapper.py\u001b[0m in \u001b[0;36m__init__\u001b[1;34m(self, src, **kwds)\u001b[0m\n\u001b[0;32m     49\u001b[0m \u001b[1;33m\u001b[0m\u001b[0m\n\u001b[0;32m     50\u001b[0m         \u001b[1;31m# open handles\u001b[0m\u001b[1;33m\u001b[0m\u001b[1;33m\u001b[0m\u001b[0m\n\u001b[1;32m---> 51\u001b[1;33m         \u001b[0mself\u001b[0m\u001b[1;33m.\u001b[0m\u001b[0m_open_handles\u001b[0m\u001b[1;33m(\u001b[0m\u001b[0msrc\u001b[0m\u001b[1;33m,\u001b[0m \u001b[0mkwds\u001b[0m\u001b[1;33m)\u001b[0m\u001b[1;33m\u001b[0m\u001b[1;33m\u001b[0m\u001b[0m\n\u001b[0m\u001b[0;32m     52\u001b[0m         \u001b[1;32massert\u001b[0m \u001b[0mself\u001b[0m\u001b[1;33m.\u001b[0m\u001b[0mhandles\u001b[0m \u001b[1;32mis\u001b[0m \u001b[1;32mnot\u001b[0m \u001b[1;32mNone\u001b[0m\u001b[1;33m\u001b[0m\u001b[1;33m\u001b[0m\u001b[0m\n\u001b[0;32m     53\u001b[0m \u001b[1;33m\u001b[0m\u001b[0m\n",
      "\u001b[1;32m~\\anaconda3\\envs\\PythonData\\lib\\site-packages\\pandas\\io\\parsers\\base_parser.py\u001b[0m in \u001b[0;36m_open_handles\u001b[1;34m(self, src, kwds)\u001b[0m\n\u001b[0;32m    220\u001b[0m         \u001b[0mLet\u001b[0m \u001b[0mthe\u001b[0m \u001b[0mreaders\u001b[0m \u001b[0mopen\u001b[0m \u001b[0mIOHandles\u001b[0m \u001b[0mafter\u001b[0m \u001b[0mthey\u001b[0m \u001b[0mare\u001b[0m \u001b[0mdone\u001b[0m \u001b[1;32mwith\u001b[0m \u001b[0mtheir\u001b[0m \u001b[0mpotential\u001b[0m \u001b[0mraises\u001b[0m\u001b[1;33m.\u001b[0m\u001b[1;33m\u001b[0m\u001b[1;33m\u001b[0m\u001b[0m\n\u001b[0;32m    221\u001b[0m         \"\"\"\n\u001b[1;32m--> 222\u001b[1;33m         self.handles = get_handle(\n\u001b[0m\u001b[0;32m    223\u001b[0m             \u001b[0msrc\u001b[0m\u001b[1;33m,\u001b[0m\u001b[1;33m\u001b[0m\u001b[1;33m\u001b[0m\u001b[0m\n\u001b[0;32m    224\u001b[0m             \u001b[1;34m\"r\"\u001b[0m\u001b[1;33m,\u001b[0m\u001b[1;33m\u001b[0m\u001b[1;33m\u001b[0m\u001b[0m\n",
      "\u001b[1;32m~\\anaconda3\\envs\\PythonData\\lib\\site-packages\\pandas\\io\\common.py\u001b[0m in \u001b[0;36mget_handle\u001b[1;34m(path_or_buf, mode, encoding, compression, memory_map, is_text, errors, storage_options)\u001b[0m\n\u001b[0;32m    700\u001b[0m         \u001b[1;32mif\u001b[0m \u001b[0mioargs\u001b[0m\u001b[1;33m.\u001b[0m\u001b[0mencoding\u001b[0m \u001b[1;32mand\u001b[0m \u001b[1;34m\"b\"\u001b[0m \u001b[1;32mnot\u001b[0m \u001b[1;32min\u001b[0m \u001b[0mioargs\u001b[0m\u001b[1;33m.\u001b[0m\u001b[0mmode\u001b[0m\u001b[1;33m:\u001b[0m\u001b[1;33m\u001b[0m\u001b[1;33m\u001b[0m\u001b[0m\n\u001b[0;32m    701\u001b[0m             \u001b[1;31m# Encoding\u001b[0m\u001b[1;33m\u001b[0m\u001b[1;33m\u001b[0m\u001b[0m\n\u001b[1;32m--> 702\u001b[1;33m             handle = open(\n\u001b[0m\u001b[0;32m    703\u001b[0m                 \u001b[0mhandle\u001b[0m\u001b[1;33m,\u001b[0m\u001b[1;33m\u001b[0m\u001b[1;33m\u001b[0m\u001b[0m\n\u001b[0;32m    704\u001b[0m                 \u001b[0mioargs\u001b[0m\u001b[1;33m.\u001b[0m\u001b[0mmode\u001b[0m\u001b[1;33m,\u001b[0m\u001b[1;33m\u001b[0m\u001b[1;33m\u001b[0m\u001b[0m\n",
      "\u001b[1;31mFileNotFoundError\u001b[0m: [Errno 2] No such file or directory: 'restaurant_df_raw.csv'"
     ]
    }
   ],
   "source": [
    "# Load Yelp restaurant data\n",
    "restaurant_df = pd.read_csv('restaurant_df_raw.csv')"
   ]
  },
  {
   "cell_type": "code",
   "execution_count": null,
   "id": "adc0c5e6",
   "metadata": {
    "id": "adc0c5e6",
    "outputId": "69e41c21-e966-4f0d-aa00-9a5a6280d9d2"
   },
   "outputs": [],
   "source": [
    "# Change business name to uppercase for continuity between datasets before merging; rename 'name' column before merging\n",
    "restaurant_df['name'] = restaurant_df['name'].str.upper()\n",
    "restaurant_df.rename(columns = {'name':'BorrowerName'}, inplace = True)\n",
    "restaurant_df.head()"
   ]
  },
  {
   "cell_type": "code",
   "execution_count": null,
   "id": "7b99a6ef",
   "metadata": {
    "id": "7b99a6ef",
    "outputId": "61725af1-de21-4374-f3e1-816acb1242da",
    "scrolled": true
   },
   "outputs": [],
   "source": [
    "# Merge dataframes\n",
    "merged_df = pd.merge(combined_sba, restaurant_df, on=\"BorrowerName\")\n",
    "merged_df.head()"
   ]
  },
  {
   "cell_type": "code",
   "execution_count": null,
   "id": "b730b461",
   "metadata": {
    "id": "b730b461",
    "outputId": "c630223b-15ef-4ea6-8c13-d6188346754d"
   },
   "outputs": [],
   "source": [
    "merged_df.info()"
   ]
  },
  {
   "cell_type": "code",
   "execution_count": null,
   "id": "69e42b2c",
   "metadata": {
    "id": "69e42b2c",
    "outputId": "19051337-ea26-42ec-9826-8e50cc88e7d8"
   },
   "outputs": [],
   "source": [
    "merged_df.nunique()"
   ]
  },
  {
   "cell_type": "code",
   "execution_count": null,
   "id": "550fba33",
   "metadata": {
    "id": "550fba33",
    "outputId": "b5d7acc2-e95e-4c39-be09-bb87c2025c22"
   },
   "outputs": [],
   "source": [
    "# Remove unnecessary columns; drop duplicate loan numbers; remove +4 from zip code column\n",
    "loans_df = merged_df.drop(columns=['Unnamed: 0', \n",
    "                                   'id', \n",
    "                                   'phone', \n",
    "                                   'address', \n",
    "                                   'category_alias', \n",
    "                                   'UndisbursedAmount', \n",
    "                                   'RuralUrbanIndicator'])\n",
    "loans_df = loans_df.drop_duplicates(subset=['LoanNumber']).reset_index(drop=True)\n",
    "loans_df['BorrowerZip'] = loans_df['BorrowerZip'].str[:5]\n",
    "loans_df"
   ]
  },
  {
   "cell_type": "code",
   "execution_count": null,
   "id": "94ef3742",
   "metadata": {
    "id": "94ef3742",
    "outputId": "e33d489f-04d7-4e8f-ed78-9721b9930ab9"
   },
   "outputs": [],
   "source": [
    "# Change 'Unanswered' and 'Unknown/NotStated' to null values.\n",
    "loans_df = loans_df.replace(['Unanswered', 'Unknown/NotStated'],np.NaN)\n",
    "loans_df"
   ]
  },
  {
   "cell_type": "code",
   "execution_count": 7,
   "id": "360f07b5",
   "metadata": {
    "id": "360f07b5"
   },
   "outputs": [],
   "source": [
    "# Load to csv.\n",
    "combined_sba.to_csv(r\"C:\\Users\\vowel\\Desktop\\PPP_df.csv\", index=False)"
   ]
  },
  {
   "cell_type": "code",
   "execution_count": null,
   "id": "9b3fe971",
   "metadata": {},
   "outputs": [],
   "source": []
  }
 ],
 "metadata": {
  "colab": {
   "name": "SBA_cleaning.ipynb",
   "provenance": []
  },
  "kernelspec": {
   "display_name": "PythonData",
   "language": "python",
   "name": "pythondata"
  },
  "language_info": {
   "codemirror_mode": {
    "name": "ipython",
    "version": 3
   },
   "file_extension": ".py",
   "mimetype": "text/x-python",
   "name": "python",
   "nbconvert_exporter": "python",
   "pygments_lexer": "ipython3",
   "version": "3.9.7"
  }
 },
 "nbformat": 4,
 "nbformat_minor": 5
}
