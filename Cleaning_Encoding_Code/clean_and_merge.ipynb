{
 "cells": [
  {
   "cell_type": "code",
   "execution_count": 1,
   "id": "171f39b6",
   "metadata": {},
   "outputs": [],
   "source": [
    "import pandas as pd\n",
    "import numpy as np"
   ]
  },
  {
   "cell_type": "code",
   "execution_count": 2,
   "id": "d4f4cbca",
   "metadata": {},
   "outputs": [],
   "source": [
    "# Import files\n",
    "sba_df_1 = pd.read_csv('public_150k_plus_220403.csv')\n",
    "sba_df_2 = pd.read_csv('public_up_to_150k_2_220403.csv')"
   ]
  },
  {
   "cell_type": "code",
   "execution_count": 3,
   "id": "738ce165",
   "metadata": {},
   "outputs": [],
   "source": [
    "# zip_codes = ['80202', '80203', '80204', '80205', '80206', '80207', '80209', '80210', '80216', '80218', '80219', '80220', '80223', '80224', '80227', '80231', '80235', '80236', '80237', '80239', '80249']"
   ]
  },
  {
   "cell_type": "code",
   "execution_count": 4,
   "id": "13d4264d",
   "metadata": {},
   "outputs": [],
   "source": [
    "# # Filter file 1\n",
    "# sba_df_1 = sba_df_1.loc[sba_df_1['BorrowerZip'].isin(zip_codes)]"
   ]
  },
  {
   "cell_type": "code",
   "execution_count": 5,
   "id": "aae1c9aa",
   "metadata": {},
   "outputs": [],
   "source": [
    "# # Filter file 2\n",
    "# sba_df_2 = sba_df_2.loc[sba_df_2['BorrowerZip'].isin(zip_codes)]"
   ]
  },
  {
   "cell_type": "code",
   "execution_count": 6,
   "id": "571f8438",
   "metadata": {},
   "outputs": [],
   "source": [
    "sba_df_1 = sba_df_1[(sba_df_1.BorrowerState == 'CO') & (sba_df_1.BorrowerCity == 'DENVER')]"
   ]
  },
  {
   "cell_type": "code",
   "execution_count": 7,
   "id": "db110921",
   "metadata": {},
   "outputs": [],
   "source": [
    "sba_df_2 = sba_df_2[(sba_df_2.BorrowerState == 'CO') & (sba_df_2.BorrowerCity == 'DENVER')]"
   ]
  },
  {
   "cell_type": "code",
   "execution_count": 8,
   "id": "e74cb1b9",
   "metadata": {
    "scrolled": true
   },
   "outputs": [],
   "source": [
    "# Combine files 1 and 2\n",
    "combined_sba = sba_df_1.append(sba_df_2)"
   ]
  },
  {
   "cell_type": "code",
   "execution_count": 9,
   "id": "69f74bcb",
   "metadata": {},
   "outputs": [
    {
     "name": "stdout",
     "output_type": "stream",
     "text": [
      "<class 'pandas.core.frame.DataFrame'>\n",
      "Int64Index: 33790 entries, 165875 to 842314\n",
      "Data columns (total 53 columns):\n",
      " #   Column                       Non-Null Count  Dtype  \n",
      "---  ------                       --------------  -----  \n",
      " 0   LoanNumber                   33790 non-null  int64  \n",
      " 1   DateApproved                 33790 non-null  object \n",
      " 2   SBAOfficeCode                33790 non-null  int64  \n",
      " 3   ProcessingMethod             33790 non-null  object \n",
      " 4   BorrowerName                 33790 non-null  object \n",
      " 5   BorrowerAddress              33790 non-null  object \n",
      " 6   BorrowerCity                 33790 non-null  object \n",
      " 7   BorrowerState                33790 non-null  object \n",
      " 8   BorrowerZip                  33790 non-null  object \n",
      " 9   LoanStatusDate               29415 non-null  object \n",
      " 10  LoanStatus                   33790 non-null  object \n",
      " 11  Term                         33790 non-null  int64  \n",
      " 12  SBAGuarantyPercentage        33790 non-null  int64  \n",
      " 13  InitialApprovalAmount        33790 non-null  float64\n",
      " 14  CurrentApprovalAmount        33790 non-null  float64\n",
      " 15  UndisbursedAmount            33786 non-null  float64\n",
      " 16  FranchiseName                452 non-null    object \n",
      " 17  ServicingLenderLocationID    33790 non-null  int64  \n",
      " 18  ServicingLenderName          33790 non-null  object \n",
      " 19  ServicingLenderAddress       33790 non-null  object \n",
      " 20  ServicingLenderCity          33790 non-null  object \n",
      " 21  ServicingLenderState         33790 non-null  object \n",
      " 22  ServicingLenderZip           33790 non-null  object \n",
      " 23  RuralUrbanIndicator          33790 non-null  object \n",
      " 24  HubzoneIndicator             33790 non-null  object \n",
      " 25  LMIIndicator                 33790 non-null  object \n",
      " 26  BusinessAgeDescription       33790 non-null  object \n",
      " 27  ProjectCity                  33790 non-null  object \n",
      " 28  ProjectCountyName            33790 non-null  object \n",
      " 29  ProjectState                 33790 non-null  object \n",
      " 30  ProjectZip                   33790 non-null  object \n",
      " 31  CD                           33790 non-null  object \n",
      " 32  JobsReported                 33790 non-null  float64\n",
      " 33  NAICSCode                    33359 non-null  float64\n",
      " 34  Race                         33790 non-null  object \n",
      " 35  Ethnicity                    33790 non-null  object \n",
      " 36  UTILITIES_PROCEED            8121 non-null   float64\n",
      " 37  PAYROLL_PROCEED              33744 non-null  float64\n",
      " 38  MORTGAGE_INTEREST_PROCEED    877 non-null    float64\n",
      " 39  RENT_PROCEED                 2035 non-null   float64\n",
      " 40  REFINANCE_EIDL_PROCEED       439 non-null    float64\n",
      " 41  HEALTH_CARE_PROCEED          797 non-null    float64\n",
      " 42  DEBT_INTEREST_PROCEED        470 non-null    float64\n",
      " 43  BusinessType                 33778 non-null  object \n",
      " 44  OriginatingLenderLocationID  33790 non-null  int64  \n",
      " 45  OriginatingLender            33790 non-null  object \n",
      " 46  OriginatingLenderCity        33790 non-null  object \n",
      " 47  OriginatingLenderState       33790 non-null  object \n",
      " 48  Gender                       33790 non-null  object \n",
      " 49  Veteran                      33790 non-null  object \n",
      " 50  NonProfit                    1197 non-null   object \n",
      " 51  ForgivenessAmount            30129 non-null  float64\n",
      " 52  ForgivenessDate              30129 non-null  object \n",
      "dtypes: float64(13), int64(6), object(34)\n",
      "memory usage: 13.9+ MB\n"
     ]
    }
   ],
   "source": [
    "combined_sba.info()"
   ]
  },
  {
   "cell_type": "code",
   "execution_count": 10,
   "id": "f8c36ff0",
   "metadata": {
    "scrolled": true
   },
   "outputs": [
    {
     "data": {
      "text/plain": [
       "LoanNumber                     33790\n",
       "DateApproved                     235\n",
       "SBAOfficeCode                      3\n",
       "ProcessingMethod                   2\n",
       "BorrowerName                   28784\n",
       "BorrowerAddress                29038\n",
       "BorrowerCity                       1\n",
       "BorrowerState                      1\n",
       "BorrowerZip                    12791\n",
       "LoanStatusDate                   326\n",
       "LoanStatus                         3\n",
       "Term                              24\n",
       "SBAGuarantyPercentage              1\n",
       "InitialApprovalAmount          18566\n",
       "CurrentApprovalAmount          18566\n",
       "UndisbursedAmount                  2\n",
       "FranchiseName                    234\n",
       "ServicingLenderLocationID        564\n",
       "ServicingLenderName              549\n",
       "ServicingLenderAddress           556\n",
       "ServicingLenderCity              421\n",
       "ServicingLenderState              49\n",
       "ServicingLenderZip               562\n",
       "RuralUrbanIndicator                2\n",
       "HubzoneIndicator                   2\n",
       "LMIIndicator                       2\n",
       "BusinessAgeDescription             5\n",
       "ProjectCity                       25\n",
       "ProjectCountyName                 12\n",
       "ProjectState                       1\n",
       "ProjectZip                     12816\n",
       "CD                                 8\n",
       "JobsReported                     302\n",
       "NAICSCode                        881\n",
       "Race                               6\n",
       "Ethnicity                          3\n",
       "UTILITIES_PROCEED               1009\n",
       "PAYROLL_PROCEED                20388\n",
       "MORTGAGE_INTEREST_PROCEED        489\n",
       "RENT_PROCEED                    1277\n",
       "REFINANCE_EIDL_PROCEED            34\n",
       "HEALTH_CARE_PROCEED              468\n",
       "DEBT_INTEREST_PROCEED            134\n",
       "BusinessType                      20\n",
       "OriginatingLenderLocationID      573\n",
       "OriginatingLender                558\n",
       "OriginatingLenderCity            428\n",
       "OriginatingLenderState            49\n",
       "Gender                             3\n",
       "Veteran                            3\n",
       "NonProfit                          1\n",
       "ForgivenessAmount              29173\n",
       "ForgivenessDate                  351\n",
       "dtype: int64"
      ]
     },
     "execution_count": 10,
     "metadata": {},
     "output_type": "execute_result"
    }
   ],
   "source": [
    "combined_sba.nunique()"
   ]
  },
  {
   "cell_type": "code",
   "execution_count": 11,
   "id": "1d23e81f",
   "metadata": {},
   "outputs": [],
   "source": [
    "# Drop unnecessary columns\n",
    "combined_sba = combined_sba.drop(columns=['SBAOfficeCode', \n",
    "                                          'ProcessingMethod', \n",
    "                                          'FranchiseName', \n",
    "                                          'ServicingLenderLocationID', \n",
    "                                          'ServicingLenderName', \n",
    "                                          'ServicingLenderAddress', \n",
    "                                          'ServicingLenderCity', \n",
    "                                          'ServicingLenderState', \n",
    "                                          'ServicingLenderZip', \n",
    "                                          'HubzoneIndicator', \n",
    "                                          'LMIIndicator', \n",
    "                                          'NAICSCode', \n",
    "                                          'OriginatingLenderLocationID', \n",
    "                                          'OriginatingLender', \n",
    "                                          'OriginatingLenderCity', \n",
    "                                          'OriginatingLenderState', \n",
    "                                          'ProjectCity', \n",
    "                                          'ProjectCountyName', \n",
    "                                          'ProjectState', \n",
    "                                          'ProjectZip', \n",
    "                                          'UTILITIES_PROCEED', \n",
    "                                          'PAYROLL_PROCEED', \n",
    "                                          'MORTGAGE_INTEREST_PROCEED', \n",
    "                                          'RENT_PROCEED', \n",
    "                                          'REFINANCE_EIDL_PROCEED', \n",
    "                                          'HEALTH_CARE_PROCEED', \n",
    "                                          'DEBT_INTEREST_PROCEED', \n",
    "                                          'BorrowerState', \n",
    "                                          'BorrowerCity', \n",
    "                                          'NonProfit', \n",
    "                                          'SBAGuarantyPercentage'])"
   ]
  },
  {
   "cell_type": "code",
   "execution_count": null,
   "id": "c8793f36",
   "metadata": {},
   "outputs": [
    {
     "name": "stderr",
     "output_type": "stream",
     "text": [
      "C:\\Users\\jamar\\anaconda3\\envs\\PythonData\\lib\\site-packages\\ipykernel_launcher.py:1: FutureWarning: The default value of regex will change from True to False in a future version.\n",
      "  \"\"\"Entry point for launching an IPython kernel.\n",
      "C:\\Users\\jamar\\anaconda3\\envs\\PythonData\\lib\\site-packages\\ipykernel_launcher.py:3: FutureWarning: The default value of regex will change from True to False in a future version.\n",
      "  This is separate from the ipykernel package so we can avoid doing imports until\n",
      "C:\\Users\\jamar\\anaconda3\\envs\\PythonData\\lib\\site-packages\\ipykernel_launcher.py:5: FutureWarning: The default value of regex will change from True to False in a future version.\n",
      "  \"\"\"\n",
      "C:\\Users\\jamar\\anaconda3\\envs\\PythonData\\lib\\site-packages\\ipykernel_launcher.py:7: FutureWarning: The default value of regex will change from True to False in a future version.\n",
      "  import sys\n",
      "C:\\Users\\jamar\\anaconda3\\envs\\PythonData\\lib\\site-packages\\ipykernel_launcher.py:11: FutureWarning: The default value of regex will change from True to False in a future version.\n",
      "  # This is added back by InteractiveShellApp.init_path()\n"
     ]
    }
   ],
   "source": [
    "combined_sba['BorrowerName'] = combined_sba['BorrowerName'].str.replace(' INC.','')\n",
    "combined_sba['BorrowerName'] = combined_sba['BorrowerName'].str.replace(' INC','')\n",
    "combined_sba['BorrowerName'] = combined_sba['BorrowerName'].str.replace(', INC.','')\n",
    "combined_sba['BorrowerName'] = combined_sba['BorrowerName'].str.replace(', INC','')\n",
    "combined_sba['BorrowerName'] = combined_sba['BorrowerName'].str.replace(' LLC.','')\n",
    "combined_sba['BorrowerName'] = combined_sba['BorrowerName'].str.replace(' LLC','')\n",
    "combined_sba['BorrowerName'] = combined_sba['BorrowerName'].str.replace(', LLC.','')\n",
    "combined_sba['BorrowerName'] = combined_sba['BorrowerName'].str.replace(', LLC','')\n",
    "combined_sba['BorrowerName'] = combined_sba['BorrowerName'].str.replace(' LP','')\n",
    "combined_sba['BorrowerName'] = combined_sba['BorrowerName'].str.replace(' PC','')\n",
    "combined_sba['BorrowerName'] = combined_sba['BorrowerName'].str.replace(' p.c.','')\n",
    "combined_sba['BorrowerName'] = combined_sba['BorrowerName'].str.replace(' LLLP','')\n",
    "combined_sba['BorrowerName'] = combined_sba['BorrowerName'].str.replace(' PLLC','')\n",
    "combined_sba['BorrowerName'] = combined_sba['BorrowerName'].str.replace(' PLLP','')\n",
    "combined_sba['BorrowerName'] = combined_sba['BorrowerName'].str.replace(' incorporated','')\n",
    "combined_sba['BorrowerName'] = combined_sba['BorrowerName'].str.replace(' CO.','')\n",
    "combined_sba['BorrowerName'] = combined_sba['BorrowerName'].str.replace(' CO','')\n",
    "combined_sba['BorrowerName'] = combined_sba['BorrowerName'].str.replace(' CORP.','')\n",
    "combined_sba['BorrowerName'] = combined_sba['BorrowerName'].str.replace(' CORP','')\n",
    "combined_sba['BorrowerName'] = combined_sba['BorrowerName'].str.replace(',','')\n",
    "combined_sba['BorrowerName'] = combined_sba['BorrowerName'].str.replace('.','')"
   ]
  },
  {
   "cell_type": "code",
   "execution_count": null,
   "id": "0bc334c3",
   "metadata": {},
   "outputs": [],
   "source": [
    "combined_sba"
   ]
  },
  {
   "cell_type": "code",
   "execution_count": null,
   "id": "28b61347",
   "metadata": {},
   "outputs": [],
   "source": [
    "combined_sba.to_csv('combined_sba.csv')"
   ]
  },
  {
   "cell_type": "code",
   "execution_count": null,
   "id": "7b207133",
   "metadata": {
    "scrolled": true
   },
   "outputs": [],
   "source": [
    "# Load Yelp restaurant data\n",
    "industries_df = pd.read_csv('all_industries_df.csv')"
   ]
  },
  {
   "cell_type": "code",
   "execution_count": null,
   "id": "adc0c5e6",
   "metadata": {
    "scrolled": true
   },
   "outputs": [],
   "source": [
    "# Change business name to uppercase for continuity between datasets before merging; rename 'name' column before merging\n",
    "industries_df['name'] = industries_df['name'].str.upper()\n",
    "industries_df.rename(columns = {'name':'BorrowerName'}, inplace = True)\n",
    "industries_df.head()"
   ]
  },
  {
   "cell_type": "code",
   "execution_count": null,
   "id": "c7500c5f",
   "metadata": {},
   "outputs": [],
   "source": [
    "industries_df['BorrowerName'] = industries_df['BorrowerName'].str.replace(' INC.','')\n",
    "industries_df['BorrowerName'] = industries_df['BorrowerName'].str.replace(' INC','')\n",
    "industries_df['BorrowerName'] = industries_df['BorrowerName'].str.replace(', INC.','')\n",
    "industries_df['BorrowerName'] = industries_df['BorrowerName'].str.replace(', INC','')\n",
    "industries_df['BorrowerName'] = industries_df['BorrowerName'].str.replace(' LLC.','')\n",
    "industries_df['BorrowerName'] = industries_df['BorrowerName'].str.replace(' LLC','')\n",
    "industries_df['BorrowerName'] = industries_df['BorrowerName'].str.replace(', LLC.','')\n",
    "industries_df['BorrowerName'] = industries_df['BorrowerName'].str.replace(', LLC','')\n",
    "industries_df['BorrowerName'] = industries_df['BorrowerName'].str.replace(' LP','')\n",
    "industries_df['BorrowerName'] = industries_df['BorrowerName'].str.replace(' PC','')\n",
    "industries_df['BorrowerName'] = industries_df['BorrowerName'].str.replace(' p.c.','')\n",
    "industries_df['BorrowerName'] = industries_df['BorrowerName'].str.replace(' LLLP','')\n",
    "industries_df['BorrowerName'] = industries_df['BorrowerName'].str.replace(' PLLC','')\n",
    "industries_df['BorrowerName'] = industries_df['BorrowerName'].str.replace(' PLLP','')\n",
    "industries_df['BorrowerName'] = industries_df['BorrowerName'].str.replace(' incorporated','')\n",
    "industries_df['BorrowerName'] = industries_df['BorrowerName'].str.replace(' CO.','')\n",
    "industries_df['BorrowerName'] = industries_df['BorrowerName'].str.replace(' CO','')\n",
    "industries_df['BorrowerName'] = industries_df['BorrowerName'].str.replace(' CORP.','')\n",
    "industries_df['BorrowerName'] = industries_df['BorrowerName'].str.replace(' CORP','')\n",
    "industries_df['BorrowerName'] = industries_df['BorrowerName'].str.replace(',','')\n",
    "industries_df['BorrowerName'] = industries_df['BorrowerName'].str.replace('.','')"
   ]
  },
  {
   "cell_type": "code",
   "execution_count": null,
   "id": "7b99a6ef",
   "metadata": {
    "scrolled": true
   },
   "outputs": [],
   "source": [
    "# Merge dataframes\n",
    "merged_df = pd.merge(combined_sba, industries_df, on=\"BorrowerName\")\n",
    "merged_df.head()"
   ]
  },
  {
   "cell_type": "code",
   "execution_count": null,
   "id": "b730b461",
   "metadata": {},
   "outputs": [],
   "source": [
    "merged_df.info()"
   ]
  },
  {
   "cell_type": "code",
   "execution_count": null,
   "id": "69e42b2c",
   "metadata": {
    "scrolled": true
   },
   "outputs": [],
   "source": [
    "merged_df.nunique()"
   ]
  },
  {
   "cell_type": "code",
   "execution_count": null,
   "id": "550fba33",
   "metadata": {
    "scrolled": true
   },
   "outputs": [],
   "source": [
    "# Remove unnecessary columns; drop duplicate loan numbers; remove +4 from zip code column\n",
    "loans_df = merged_df.drop(columns=['phone', \n",
    "                                   'address', \n",
    "                                   'category_alias', \n",
    "                                   'UndisbursedAmount', \n",
    "                                   'RuralUrbanIndicator',\n",
    "                                   'CurrentApprovalAmount',\n",
    "                                   'ForgivenessAmount'])\n",
    "loans_df = loans_df.drop_duplicates(subset=['LoanNumber']).reset_index(drop=True)\n",
    "loans_df['BorrowerZip'] = loans_df['BorrowerZip'].str[:5]\n",
    "loans_df"
   ]
  },
  {
   "cell_type": "code",
   "execution_count": null,
   "id": "94ef3742",
   "metadata": {},
   "outputs": [],
   "source": [
    "# Change 'Unanswered' and 'Unknown/NotStated' to null values.\n",
    "loans_df = loans_df.replace(['Unanswered', 'Unknown/NotStated'],np.NaN)\n",
    "loans_df"
   ]
  },
  {
   "cell_type": "code",
   "execution_count": null,
   "id": "360f07b5",
   "metadata": {},
   "outputs": [],
   "source": [
    "# Load to csv.\n",
    "loans_df.to_csv('loans_df.csv')"
   ]
  }
 ],
 "metadata": {
  "kernelspec": {
   "display_name": "PythonData",
   "language": "python",
   "name": "pythondata"
  },
  "language_info": {
   "codemirror_mode": {
    "name": "ipython",
    "version": 3
   },
   "file_extension": ".py",
   "mimetype": "text/x-python",
   "name": "python",
   "nbconvert_exporter": "python",
   "pygments_lexer": "ipython3",
   "version": "3.7.11"
  }
 },
 "nbformat": 4,
 "nbformat_minor": 5
}
