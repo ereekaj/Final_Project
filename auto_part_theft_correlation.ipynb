{
 "cells": [
  {
   "cell_type": "code",
   "execution_count": null,
   "id": "f76409a7",
   "metadata": {},
   "outputs": [],
   "source": [
    "Import Dependancies"
   ]
  },
  {
   "cell_type": "code",
   "execution_count": null,
   "id": "6628cbae",
   "metadata": {},
   "outputs": [],
   "source": [
    "read CSV files into DFs"
   ]
  },
  {
   "cell_type": "code",
   "execution_count": null,
   "id": "632bc810",
   "metadata": {},
   "outputs": [],
   "source": [
    "clean datasets"
   ]
  },
  {
   "cell_type": "code",
   "execution_count": null,
   "id": "89670cac",
   "metadata": {},
   "outputs": [],
   "source": [
    "Create for loop that cycles through both datasets and calculates distance from auto repair shop to auto part thefts, dropping anytihng larger than x miles\n",
    "    - create new empty list to hold rows that contain auto part shops and the crimes that occured near them\n"
   ]
  },
  {
   "cell_type": "code",
   "execution_count": null,
   "id": "80fa9ce2",
   "metadata": {},
   "outputs": [],
   "source": [
    "create a new dataframe that has the auto repair shops listed in the same rows as crimes that happened within x miles"
   ]
  },
  {
   "cell_type": "code",
   "execution_count": null,
   "id": "356f9a78",
   "metadata": {},
   "outputs": [],
   "source": [
    "create heatmap of first crime dataframe with lat and long\n",
    "overlay locations of auto repair shops in same heatmap"
   ]
  },
  {
   "cell_type": "code",
   "execution_count": null,
   "id": "5addb77e",
   "metadata": {},
   "outputs": [],
   "source": [
    "find any correlation between two datasets\n",
    "    - if strong correlation, go to next step\n",
    "    - if no strong correlation skip next step and go to the one after"
   ]
  },
  {
   "cell_type": "code",
   "execution_count": null,
   "id": "25482f13",
   "metadata": {},
   "outputs": [],
   "source": [
    "if correlation exists: feed newly created dataframe into ML algorithm (supervised?) to predict likelihood of getting parts stolen depending on how close you live to an auto repair shop"
   ]
  },
  {
   "cell_type": "code",
   "execution_count": null,
   "id": "fb20ce23",
   "metadata": {},
   "outputs": [],
   "source": [
    "if no correlation exists: feed newly created dataframe into unsupervised ML algorithm to find any patterns"
   ]
  },
  {
   "cell_type": "code",
   "execution_count": null,
   "id": "9015dfbc",
   "metadata": {},
   "outputs": [],
   "source": [
    "display data online via heatmap and provide statistical information in readme. potentially allow visitors to input their address and see how likely they are to be a victim of auto parts theft"
   ]
  }
 ],
 "metadata": {
  "kernelspec": {
   "display_name": "PythonData",
   "language": "python",
   "name": "pythondata"
  },
  "language_info": {
   "codemirror_mode": {
    "name": "ipython",
    "version": 3
   },
   "file_extension": ".py",
   "mimetype": "text/x-python",
   "name": "python",
   "nbconvert_exporter": "python",
   "pygments_lexer": "ipython3",
   "version": "3.9.7"
  }
 },
 "nbformat": 4,
 "nbformat_minor": 5
}
